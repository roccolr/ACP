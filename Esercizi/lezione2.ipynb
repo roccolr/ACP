{
 "cells": [
  {
   "cell_type": "code",
   "execution_count": 31,
   "metadata": {},
   "outputs": [
    {
     "name": "stdout",
     "output_type": "stream",
     "text": [
      "è palindroma!!!\n"
     ]
    }
   ],
   "source": [
    "def reverse (mystr):\n",
    "    return mystr[::-1]\n",
    "\n",
    "def isPalindrome(s):\n",
    "    t = reverse(s)\n",
    "    if (s == t):\n",
    "        return True \n",
    "    else:\n",
    "        return False\n",
    "\n",
    "s = str(input(\"inserisci una stringa\"))\n",
    "if (isPalindrome(s)):\n",
    "    print(\"è palindroma!!!\")\n",
    "else:\n",
    "    print (\"non è palindroma!!\")"
   ]
  }
 ],
 "metadata": {
  "kernelspec": {
   "display_name": "Python 3",
   "language": "python",
   "name": "python3"
  },
  "language_info": {
   "codemirror_mode": {
    "name": "ipython",
    "version": 3
   },
   "file_extension": ".py",
   "mimetype": "text/x-python",
   "name": "python",
   "nbconvert_exporter": "python",
   "pygments_lexer": "ipython3",
   "version": "3.8.10"
  },
  "orig_nbformat": 4
 },
 "nbformat": 4,
 "nbformat_minor": 2
}
